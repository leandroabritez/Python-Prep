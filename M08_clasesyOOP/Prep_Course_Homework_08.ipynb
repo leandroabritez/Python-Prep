{
 "cells": [
  {
   "attachments": {},
   "cell_type": "markdown",
   "metadata": {},
   "source": [
    "## Clases y Programación Orientada a Objetos"
   ]
  },
  {
   "attachments": {},
   "cell_type": "markdown",
   "metadata": {},
   "source": [
    "1) Crear la clase vehículo que contenga los atributos:<br>\n",
    "Color<br>\n",
    "Si es moto, auto, camioneta ó camión<br>\n",
    "Cilindrada del motor"
   ]
  },
  {
   "cell_type": "code",
   "execution_count": 1,
   "metadata": {},
   "outputs": [],
   "source": [
    "class Vehículo:\n",
    "    def __init__(self,color,tipo,cilindrada):\n",
    "        self.color = color\n",
    "        self.tipo = tipo\n",
    "        self.cilindrada = cilindrada"
   ]
  },
  {
   "attachments": {},
   "cell_type": "markdown",
   "metadata": {},
   "source": [
    "2) A la clase Vehiculo creada en el punto 1, agregar los siguientes métodos:<br>\n",
    "Acelerar<br>\n",
    "Frenar<br>\n",
    "Doblar<br>"
   ]
  },
  {
   "cell_type": "code",
   "execution_count": 11,
   "metadata": {},
   "outputs": [],
   "source": [
    "class Vehiculo:\n",
    "    def __init__(self,color,tipo,cilindrada):\n",
    "        self.color = color\n",
    "        self.tipo = tipo\n",
    "        self.cilindrada = cilindrada\n",
    "\n",
    "        self.velocidad = 0\n",
    "        self.direccion = 0\n",
    "\n",
    "    def acelerar(self, km):\n",
    "        self.velocidad+= km\n",
    "        \n",
    "    def frenar(self):\n",
    "        self.velocidad = 0\n",
    "            \n",
    "    def doblar(self, grados):\n",
    "        self.direccion+= grados\n",
    "            \n",
    "\n"
   ]
  },
  {
   "attachments": {},
   "cell_type": "markdown",
   "metadata": {},
   "source": [
    "3) Instanciar 3 objetos de la clase vehículo y ejecutar sus métodos, probar luego el resultado"
   ]
  },
  {
   "cell_type": "code",
   "execution_count": 13,
   "metadata": {},
   "outputs": [
    {
     "name": "stdout",
     "output_type": "stream",
     "text": [
      "0\n",
      "50 10\n"
     ]
    }
   ],
   "source": [
    "v1 = Vehiculo('marron','auto',100)\n",
    "v1.acelerar(100)\n",
    "v1.frenar()\n",
    "print(v1.velocidad)\n",
    "\n",
    "v2 = Vehiculo('rojo','moto',20)\n",
    "v2.acelerar(50)\n",
    "v2.doblar(10)\n",
    "print(v2.velocidad,v2.direccion)\n",
    "\n",
    "v1 = Vehiculo('azul','camioneta',150)\n",
    "v1.acelerar(80)\n",
    "\n",
    "\n"
   ]
  },
  {
   "attachments": {},
   "cell_type": "markdown",
   "metadata": {},
   "source": [
    "4) Agregar a la clase Vehiculo, un método que muestre su estado, es decir, a que velocidad se encuentra y su dirección. Y otro método que muestre color, tipo y cilindrada"
   ]
  },
  {
   "cell_type": "code",
   "execution_count": 16,
   "metadata": {},
   "outputs": [
    {
     "name": "stdout",
     "output_type": "stream",
     "text": [
      "su velocidad es : 22  km por hora\n",
      "su dirección es : 13  grados\n",
      "su color es : amarillo\n",
      "su tipo es : auto\n",
      "su cilindrada es : 23\n"
     ]
    }
   ],
   "source": [
    "class Vehiculo:\n",
    "    def __init__(self,color,tipo,cilindrada):\n",
    "        self.color = color\n",
    "        self.tipo = tipo\n",
    "        self.cilindrada = cilindrada\n",
    "\n",
    "        self.velocidad = 0\n",
    "        self.direccion = 0\n",
    "\n",
    "    def acelerar(self, km):\n",
    "        self.velocidad+= km\n",
    "        \n",
    "    def frenar(self):\n",
    "        self.velocidad = 0\n",
    "            \n",
    "    def doblar(self, grados):\n",
    "        self.direccion+= grados\n",
    "\n",
    "    def estado(self):\n",
    "        print('su velocidad es :', self.velocidad, ' km por hora')\n",
    "        print('su dirección es :', self.direccion,' grados')\n",
    "\n",
    "    def describe(self):\n",
    "        print('su color es :', self.color)\n",
    "        print('su tipo es :', self.tipo)\n",
    "        print('su cilindrada es :', self.cilindrada)    \n",
    "\n",
    "v3 = Vehiculo('amarillo','auto',23)\n",
    "v3.acelerar(22)\n",
    "v3.doblar(13)\n",
    "v3.estado()\n",
    "v3.describe()"
   ]
  },
  {
   "attachments": {},
   "cell_type": "markdown",
   "metadata": {},
   "source": [
    "5) Crear una clase que permita utilizar las funciones creadas en la práctica del módulo 7<br>\n",
    "Verificar Primo<br>\n",
    "Valor modal<br>\n",
    "Conversión grados<br>\n",
    "Factorial<br>"
   ]
  },
  {
   "cell_type": "code",
   "execution_count": 23,
   "metadata": {},
   "outputs": [],
   "source": [
    "class Practica7():\n",
    "    def __init__(self) -> None:\n",
    "        pass\n",
    "\n",
    "    def num_primo(self,num):\n",
    "        for i in range(2,num):\n",
    "            if num % i == 0:\n",
    "                return False\n",
    "        return True    \n",
    "\n",
    "    def num_rep(self, lis):\n",
    "        result = [0,0]\n",
    "        for i in lis:\n",
    "            rep = lis.count(i)\n",
    "            if rep > result[0]:\n",
    "                result = [rep,i]\n",
    "        return print(\"se repite \",result[0],\" veces el numero \",result[1])\n",
    "    \n",
    "    def grados_conver(self,val=1,m_ori=\"Celsius\",m_des=\"Kelvin\"):\n",
    "        if m_ori == \"Celsius\" and m_des== 'Kelvin':\n",
    "            return val + 273.15\n",
    "        elif m_ori == \"Celsius\" and m_des== 'Farenheit':\n",
    "            return val * 9/5 + 32\n",
    "        elif m_ori == \"Farenheit\" and m_des== 'Celsius':\n",
    "            return val - 32 * 5/9\n",
    "        elif m_ori == \"Farenheit\" and m_des== 'Kelvin':\n",
    "            return val - 32 * 5/9 + 273.15\n",
    "        elif m_ori == \"Kelvin\" and m_des== 'Celsius':\n",
    "            return val - 273.15   \n",
    "        elif m_ori == \"Kelvin\" and m_des== 'Farenheit':\n",
    "            return val - 273.15 - 32 * 5/9\n",
    "        \n",
    "    def factorial(self, num):\n",
    "        if num < 0 or type(num) != int:\n",
    "            return print('el numero debe ser entero')\n",
    "        result = num\n",
    "        while num-1>0:\n",
    "            result = result * (num-1)\n",
    "            num-=1\n",
    "        return result   "
   ]
  },
  {
   "attachments": {},
   "cell_type": "markdown",
   "metadata": {},
   "source": [
    "6) Probar las funciones incorporadas en la clase del punto 5"
   ]
  },
  {
   "cell_type": "code",
   "execution_count": 19,
   "metadata": {},
   "outputs": [
    {
     "data": {
      "text/plain": [
       "24"
      ]
     },
     "execution_count": 19,
     "metadata": {},
     "output_type": "execute_result"
    }
   ],
   "source": [
    "a = Practica7()\n",
    "\n",
    "a.factorial(4)"
   ]
  },
  {
   "attachments": {},
   "cell_type": "markdown",
   "metadata": {},
   "source": [
    "7) Es necesario que la clase creada en el punto 5 contenga una lista, sobre la cual se apliquen las funciones incorporadas"
   ]
  },
  {
   "cell_type": "code",
   "execution_count": 2,
   "metadata": {},
   "outputs": [
    {
     "name": "stdout",
     "output_type": "stream",
     "text": [
      "1  es primo\n",
      "3  es primo\n",
      "4  no es primo\n",
      "3  es primo\n",
      "5  es primo\n",
      "6  no es primo\n",
      "7  es primo\n",
      "6  no es primo\n",
      "5  es primo\n",
      "se repite  2  veces el numero  3\n"
     ]
    },
    {
     "data": {
      "text/plain": [
       "[1, 6, 24, 6, 120, 720, 5040, 720, 120]"
      ]
     },
     "execution_count": 2,
     "metadata": {},
     "output_type": "execute_result"
    }
   ],
   "source": [
    "class Practica7():\n",
    "    def __init__(self, list_num):\n",
    "        self.lis = list_num\n",
    "        pass\n",
    "\n",
    "    def num_primo(self):\n",
    "        for i in self.lis:\n",
    "            if self._num_primo(i):\n",
    "                print(i,' es primo')\n",
    "            else:\n",
    "                print(i,' no es primo')  \n",
    "\n",
    "\n",
    "    def _num_primo(self,num):\n",
    "        for i in range(2,num):\n",
    "            if num % i == 0:\n",
    "                return False\n",
    "        return True    \n",
    "\n",
    "    def _num_rep(self):\n",
    "        result = [0,0]\n",
    "        for i in self.lis:\n",
    "            rep = self.lis.count(i)\n",
    "            if rep > result[0]:\n",
    "                result = [rep,i]\n",
    "        return print(\"se repite \",result[0],\" veces el numero \",result[1])\n",
    "    \n",
    "    def _grados_conver(self,val=1,m_ori=\"Celsius\",m_des=\"Kelvin\"):\n",
    "        if m_ori == \"Celsius\" and m_des== 'Kelvin':\n",
    "            return val + 273.15\n",
    "        elif m_ori == \"Celsius\" and m_des== 'Farenheit':\n",
    "            return val * 9/5 + 32\n",
    "        elif m_ori == \"Farenheit\" and m_des== 'Celsius':\n",
    "            return val - 32 * 5/9\n",
    "        elif m_ori == \"Farenheit\" and m_des== 'Kelvin':\n",
    "            return val - 32 * 5/9 + 273.15\n",
    "        elif m_ori == \"Kelvin\" and m_des== 'Celsius':\n",
    "            return val - 273.15   \n",
    "        elif m_ori == \"Kelvin\" and m_des== 'Farenheit':\n",
    "            return val - 273.15 - 32 * 5/9\n",
    "        \n",
    "    def factorial(self):\n",
    "        result = []\n",
    "        for i in self.lis:\n",
    "           result.append(self._factorial(i))\n",
    "        return result   \n",
    "\n",
    "    def _factorial(self, num):\n",
    "        if num < 0 or type(num) != int:\n",
    "            return print('el numero debe ser entero')\n",
    "        result = num\n",
    "        while num-1>0:\n",
    "            result = result * (num-1)\n",
    "            num-=1\n",
    "        return result   \n",
    "\n",
    "a = Practica7([1,3,4,3,5,6,7,6,5])\n",
    "a.num_primo()\n",
    "a._num_rep()\n",
    "a.factorial()"
   ]
  },
  {
   "attachments": {},
   "cell_type": "markdown",
   "metadata": {},
   "source": [
    "8) Crear un archivo .py aparte y ubicar allí la clase generada en el punto anterior. Luego realizar la importación del módulo y probar alguna de sus funciones"
   ]
  },
  {
   "cell_type": "code",
   "execution_count": 6,
   "metadata": {},
   "outputs": [
    {
     "ename": "NameError",
     "evalue": "name '__file__' is not defined",
     "output_type": "error",
     "traceback": [
      "\u001b[1;31m---------------------------------------------------------------------------\u001b[0m",
      "\u001b[1;31mNameError\u001b[0m                                 Traceback (most recent call last)",
      "Cell \u001b[1;32mIn[6], line 1\u001b[0m\n\u001b[1;32m----> 1\u001b[0m \u001b[39mprint\u001b[39m(\u001b[39m__file__\u001b[39;49m)\n",
      "\u001b[1;31mNameError\u001b[0m: name '__file__' is not defined"
     ]
    }
   ],
   "source": [
    "print(__file__)"
   ]
  }
 ],
 "metadata": {
  "interpreter": {
   "hash": "c85384e4cb51c8b72350f3a8712cc8351fdc3955e32a27f9b60c6242ab125f01"
  },
  "kernelspec": {
   "display_name": "Python 3 (ipykernel)",
   "language": "python",
   "name": "python3"
  },
  "language_info": {
   "codemirror_mode": {
    "name": "ipython",
    "version": 3
   },
   "file_extension": ".py",
   "mimetype": "text/x-python",
   "name": "python",
   "nbconvert_exporter": "python",
   "pygments_lexer": "ipython3",
   "version": "3.11.4"
  }
 },
 "nbformat": 4,
 "nbformat_minor": 4
}
